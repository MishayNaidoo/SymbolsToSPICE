{
 "cells": [
  {
   "cell_type": "code",
   "execution_count": 1,
   "metadata": {},
   "outputs": [],
   "source": [
    "import sys\n",
    "from PyQt5.QtWidgets import QApplication, QMainWindow, QLabel, QPushButton, QVBoxLayout, QWidget, QFileDialog\n",
    "from PyQt5.QtGui import QPixmap\n",
    "from PIL import Image\n",
    "#import your_machine_learning_module"
   ]
  },
  {
   "cell_type": "code",
   "execution_count": 2,
   "metadata": {},
   "outputs": [
    {
     "name": "stderr",
     "output_type": "stream",
     "text": [
      "/var/folders/g1/gj5y689n0w5fnjjfvlmbhpgr0000gn/T/ipykernel_6625/1460898701.py:51: DeprecationWarning: ANTIALIAS is deprecated and will be removed in Pillow 10 (2023-07-01). Use LANCZOS or Resampling.LANCZOS instead.\n",
      "  image = image.resize((400, 400), Image.ANTIALIAS)\n"
     ]
    },
    {
     "ename": "TypeError",
     "evalue": "fromImage(QImage, flags: Union[Qt.ImageConversionFlags, Qt.ImageConversionFlag] = Qt.AutoColor): argument 1 has unexpected type 'Image'",
     "output_type": "error",
     "traceback": [
      "\u001b[0;31m---------------------------------------------------------------------------\u001b[0m",
      "\u001b[0;31mTypeError\u001b[0m                                 Traceback (most recent call last)",
      "Cell \u001b[0;32mIn[2], line 32\u001b[0m, in \u001b[0;36mMainWindow.upload_image\u001b[0;34m(self)\u001b[0m\n\u001b[1;32m     29\u001b[0m processed_image \u001b[39m=\u001b[39m process_image(image_path)\n\u001b[1;32m     31\u001b[0m \u001b[39m# Display the processed image\u001b[39;00m\n\u001b[0;32m---> 32\u001b[0m \u001b[39mself\u001b[39;49m\u001b[39m.\u001b[39;49mdisplay_image(processed_image)\n\u001b[1;32m     34\u001b[0m \u001b[39m# Identify the component using your machine learning algorithm\u001b[39;00m\n\u001b[1;32m     35\u001b[0m identified_component \u001b[39m=\u001b[39m identify_component(processed_image)\n",
      "Cell \u001b[0;32mIn[2], line 41\u001b[0m, in \u001b[0;36mMainWindow.display_image\u001b[0;34m(self, image)\u001b[0m\n\u001b[1;32m     40\u001b[0m \u001b[39mdef\u001b[39;00m \u001b[39mdisplay_image\u001b[39m(\u001b[39mself\u001b[39m, image):\n\u001b[0;32m---> 41\u001b[0m     pixmap \u001b[39m=\u001b[39m QPixmap\u001b[39m.\u001b[39;49mfromImage(image)\n\u001b[1;32m     42\u001b[0m     \u001b[39mself\u001b[39m\u001b[39m.\u001b[39mimage_label\u001b[39m.\u001b[39msetPixmap(pixmap)\n",
      "\u001b[0;31mTypeError\u001b[0m: fromImage(QImage, flags: Union[Qt.ImageConversionFlags, Qt.ImageConversionFlag] = Qt.AutoColor): argument 1 has unexpected type 'Image'"
     ]
    },
    {
     "ename": "SystemExit",
     "evalue": "0",
     "output_type": "error",
     "traceback": [
      "An exception has occurred, use %tb to see the full traceback.\n",
      "\u001b[0;31mSystemExit\u001b[0m\u001b[0;31m:\u001b[0m 0\n"
     ]
    },
    {
     "name": "stderr",
     "output_type": "stream",
     "text": [
      "/Users/mishaynaidoo/anaconda3/lib/python3.10/site-packages/IPython/core/interactiveshell.py:3468: UserWarning: To exit: use 'exit', 'quit', or Ctrl-D.\n",
      "  warn(\"To exit: use 'exit', 'quit', or Ctrl-D.\", stacklevel=1)\n"
     ]
    }
   ],
   "source": [
    "class MainWindow(QMainWindow):\n",
    "    def __init__(self):\n",
    "        super().__init__()\n",
    "        self.setWindowTitle(\"Component Identification\")\n",
    "        \n",
    "        self.image_label = QLabel(self)\n",
    "        self.image_label.setFixedSize(400, 400)\n",
    "        \n",
    "        self.result_label = QLabel(self)\n",
    "        \n",
    "        upload_button = QPushButton(\"Upload Image\", self)\n",
    "        upload_button.clicked.connect(self.upload_image)\n",
    "        \n",
    "        layout = QVBoxLayout()\n",
    "        layout.addWidget(upload_button)\n",
    "        layout.addWidget(self.image_label)\n",
    "        layout.addWidget(self.result_label)\n",
    "        \n",
    "        central_widget = QWidget(self)\n",
    "        central_widget.setLayout(layout)\n",
    "        self.setCentralWidget(central_widget)\n",
    "    \n",
    "    def upload_image(self):\n",
    "        file_dialog = QFileDialog()\n",
    "        image_path, _ = file_dialog.getOpenFileName(self, \"Select Image\", \"\", \"Image Files (*.png *.jpg *.jpeg)\")\n",
    "        \n",
    "        if image_path:\n",
    "            # Process the image\n",
    "            processed_image = process_image(image_path)\n",
    "            \n",
    "            # Display the processed image\n",
    "            self.display_image(processed_image)\n",
    "            \n",
    "            # Identify the component using your machine learning algorithm\n",
    "            identified_component = identify_component(processed_image)\n",
    "            \n",
    "            # Display the result\n",
    "            self.result_label.setText(f\"Identified Component: {identified_component}\")\n",
    "    \n",
    "    def display_image(self, image):\n",
    "        pixmap = QPixmap.fromImage(image)\n",
    "        self.image_label.setPixmap(pixmap)\n",
    "    \n",
    "def process_image(image_path):\n",
    "    # Implement your image processing logic here\n",
    "    # You can use libraries like OpenCV or PIL to load and preprocess the image\n",
    "    # Return the processed image\n",
    "    \n",
    "    # Example: Resizing the image to fit the label size\n",
    "    image = Image.open(image_path)\n",
    "    image = image.resize((56, 56), Image.ANTIALIAS)\n",
    "    return image\n",
    "\n",
    "def identify_component(image):\n",
    "    # Implement your machine learning algorithm to identify the component in the image\n",
    "    # Return the identified component\n",
    "    \n",
    "    # Example: Randomly select a component\n",
    "    components = [\"Resistor\", \"Capacitor\", \"Inductor\", \"Battery\", \"Ground\"]\n",
    "    return random.choice(components)\n",
    "\n",
    "if __name__ == \"__main__\":\n",
    "    app = QApplication(sys.argv)\n",
    "    window = MainWindow()\n",
    "    window.show()\n",
    "    sys.exit(app.exec_())\n"
   ]
  },
  {
   "cell_type": "code",
   "execution_count": null,
   "metadata": {},
   "outputs": [],
   "source": []
  },
  {
   "cell_type": "code",
   "execution_count": null,
   "metadata": {},
   "outputs": [],
   "source": []
  }
 ],
 "metadata": {
  "kernelspec": {
   "display_name": "base",
   "language": "python",
   "name": "python3"
  },
  "language_info": {
   "codemirror_mode": {
    "name": "ipython",
    "version": 3
   },
   "file_extension": ".py",
   "mimetype": "text/x-python",
   "name": "python",
   "nbconvert_exporter": "python",
   "pygments_lexer": "ipython3",
   "version": "3.10.9"
  },
  "orig_nbformat": 4
 },
 "nbformat": 4,
 "nbformat_minor": 2
}
