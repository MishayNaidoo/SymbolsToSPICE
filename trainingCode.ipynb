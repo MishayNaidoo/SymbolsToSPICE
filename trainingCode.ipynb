{
 "cells": [
  {
   "cell_type": "code",
   "execution_count": 694,
   "metadata": {},
   "outputs": [],
   "source": [
    "import PIL\n",
    "from PIL import Image\n",
    "import glob\n",
    "import numpy as np\n",
    "import cv2\n",
    "import os\n",
    "import random\n",
    "from sklearn.model_selection import train_test_split\n",
    "import matplotlib.pyplot as plt\n",
    "import tensorflow as tf\n",
    "from tensorflow.keras import layers,models\n",
    "\n",
    "#print(\"Pillow Version: \", PIL.__version__)\n"
   ]
  },
  {
   "cell_type": "code",
   "execution_count": 695,
   "metadata": {},
   "outputs": [],
   "source": [
    "folder_path = \"/Users/mishaynaidoo/Desktop/UCT/EEE4114F/SymbolsToSPICE/Training_Data/Resized_Data/Batteries\"\n",
    "\n",
    "images = []\n",
    "\n",
    "for filename in os.listdir(folder_path):\n",
    "    img = cv2.imread(os.path.join(folder_path, filename))\n",
    "    if img is not None:\n",
    "        # Resize the image if necessary\n",
    "        img = cv2.resize(img, (56, 56))\n",
    "        # Convert the image to grayscale if needed\n",
    "        img = cv2.cvtColor(img, cv2.COLOR_BGR2GRAY)\n",
    "        images.append(img)\n",
    "\n",
    "batteries_array = np.array(images)/255"
   ]
  },
  {
   "cell_type": "code",
   "execution_count": 696,
   "metadata": {},
   "outputs": [],
   "source": [
    "folder_path = \"/Users/mishaynaidoo/Desktop/UCT/EEE4114F/SymbolsToSPICE/Training_Data/Resized_Data/Resistors\"\n",
    "\n",
    "images = []\n",
    "\n",
    "for filename in os.listdir(folder_path):\n",
    "    img = cv2.imread(os.path.join(folder_path, filename))\n",
    "    if img is not None:\n",
    "        # Resize the image if necessary\n",
    "        img = cv2.resize(img, (56, 56))\n",
    "        # Convert the image to grayscale if needed\n",
    "        img = cv2.cvtColor(img, cv2.COLOR_BGR2GRAY)\n",
    "        images.append(img)\n",
    "\n",
    "resistors_array = np.array(images)/255"
   ]
  },
  {
   "cell_type": "code",
   "execution_count": 697,
   "metadata": {},
   "outputs": [],
   "source": [
    "folder_path = \"/Users/mishaynaidoo/Desktop/UCT/EEE4114F/SymbolsToSPICE/Training_Data/Resized_Data/Capacitors\"\n",
    "\n",
    "images = []\n",
    "\n",
    "for filename in os.listdir(folder_path):\n",
    "    img = cv2.imread(os.path.join(folder_path, filename))\n",
    "    if img is not None:\n",
    "        # Resize the image if necessary\n",
    "        img = cv2.resize(img, (56, 56))\n",
    "        # Convert the image to grayscale if needed\n",
    "        img = cv2.cvtColor(img, cv2.COLOR_BGR2GRAY)\n",
    "        images.append(img)\n",
    "\n",
    "capacitor_array = np.array(images)/255"
   ]
  },
  {
   "cell_type": "code",
   "execution_count": 698,
   "metadata": {},
   "outputs": [],
   "source": [
    "folder_path = \"/Users/mishaynaidoo/Desktop/UCT/EEE4114F/SymbolsToSPICE/Training_Data/Resized_Data/Inductors\"\n",
    "\n",
    "images = []\n",
    "\n",
    "for filename in os.listdir(folder_path):\n",
    "    img = cv2.imread(os.path.join(folder_path, filename))\n",
    "    if img is not None:\n",
    "        # Resize the image if necessary\n",
    "        img = cv2.resize(img, (56, 56))\n",
    "        # Convert the image to grayscale if needed\n",
    "        img = cv2.cvtColor(img, cv2.COLOR_BGR2GRAY)\n",
    "        images.append(img)\n",
    "\n",
    "inductors_array = np.array(images)/255"
   ]
  },
  {
   "cell_type": "code",
   "execution_count": 699,
   "metadata": {},
   "outputs": [],
   "source": [
    "folder_path = \"/Users/mishaynaidoo/Desktop/UCT/EEE4114F/SymbolsToSPICE/Training_Data/Resized_Data/Ground\"\n",
    "\n",
    "images = []\n",
    "\n",
    "for filename in os.listdir(folder_path):\n",
    "    img = cv2.imread(os.path.join(folder_path, filename))\n",
    "    if img is not None:\n",
    "        # Resize the image if necessary\n",
    "        img = cv2.resize(img, (56, 56))\n",
    "        # Convert the image to grayscale if needed\n",
    "        img = cv2.cvtColor(img, cv2.COLOR_BGR2GRAY)\n",
    "        images.append(img)\n",
    "\n",
    "ground_array = np.array(images)/255"
   ]
  },
  {
   "cell_type": "code",
   "execution_count": 700,
   "metadata": {},
   "outputs": [],
   "source": [
    "#print(np.shape(ground_array))\n",
    "labels = ['Ground', 'Resistor', 'Inductor', 'Capacitor', 'Battery']\n"
   ]
  },
  {
   "cell_type": "code",
   "execution_count": 701,
   "metadata": {},
   "outputs": [],
   "source": [
    "ground_label = np.zeros(210)\n",
    "resistor_label = np.ones(210)\n",
    "inductor_label = 2*np.ones(210)\n",
    "capacitor_label = 3*np.ones(210)\n",
    "battery_label = 4*np.ones(210)"
   ]
  },
  {
   "cell_type": "code",
   "execution_count": 702,
   "metadata": {},
   "outputs": [],
   "source": [
    "ground_array = list(zip(ground_array,ground_label))\n",
    "resistors_array = list(zip(resistors_array, resistor_label))\n",
    "inductors_array = list(zip(inductors_array, inductor_label))\n",
    "capacitor_array = list(zip(capacitor_array, capacitor_label))\n",
    "batteries_array = list(zip(batteries_array, battery_label))\n",
    "\n"
   ]
  },
  {
   "cell_type": "code",
   "execution_count": 703,
   "metadata": {},
   "outputs": [],
   "source": [
    "data_with_labels = np.concatenate((ground_array,resistors_array,inductors_array,capacitor_array,batteries_array))"
   ]
  },
  {
   "cell_type": "code",
   "execution_count": 704,
   "metadata": {},
   "outputs": [],
   "source": [
    "random.shuffle(data_with_labels)"
   ]
  },
  {
   "cell_type": "code",
   "execution_count": 705,
   "metadata": {},
   "outputs": [],
   "source": [
    "shuffled_data, shuffled_labels = zip(*data_with_labels)"
   ]
  },
  {
   "cell_type": "code",
   "execution_count": 706,
   "metadata": {},
   "outputs": [],
   "source": [
    "#print(np.shape(shuffled_data))\n",
    "train_data,test_data,train_labels,test_labels = train_test_split(shuffled_data, shuffled_labels, test_size = 0.2)\n",
    "\n",
    "train_data, val_data, train_labels, val_labels = train_test_split(train_data, train_labels, test_size = 0.1)\n"
   ]
  },
  {
   "cell_type": "code",
   "execution_count": 725,
   "metadata": {},
   "outputs": [],
   "source": [
    "#print(train_labels[0])\n",
    "def plot_sample(X,y,index,Labels):\n",
    "    plt.figure(figsize = (15,2))\n",
    "    plt.imshow(X[index])\n",
    "    plt.xlabel(Labels[int(y[index])])"
   ]
  },
  {
   "cell_type": "code",
   "execution_count": 708,
   "metadata": {},
   "outputs": [
    {
     "data": {
      "image/png": "[encoded data removed]",
      "text/plain": [
       "<Figure size 1500x200 with 1 Axes>"
      ]
     },
     "metadata": {},
     "output_type": "display_data"
    }
   ],
   "source": [
    "plot_sample(train_data,train_labels,7)\n",
    "#print(train_labels)"
   ]
  },
  {
   "cell_type": "code",
   "execution_count": 709,
   "metadata": {},
   "outputs": [],
   "source": [
    "fox = models.Sequential([\n",
    "    layers.Conv2D(filters = 10, kernel_size = (3,3), activation = 'relu', input_shape=(56,56,1)),\n",
    "    layers.MaxPooling2D((2,2)),\n",
    "\n",
    "    layers.Conv2D(filters = 4, kernel_size = (3,3), activation = 'relu', input_shape=(56,56,1)),\n",
    "    layers.MaxPooling2D((2,2)),\n",
    "\n",
    "    layers.Flatten(),\n",
    "    layers.Dense(64, activation = 'relu'),\n",
    "    layers.Dense(5, activation = 'softmax')\n",
    "\n",
    "\n",
    "])"
   ]
  },
  {
   "cell_type": "code",
   "execution_count": 710,
   "metadata": {},
   "outputs": [],
   "source": [
    "fox.compile(optimizer = 'adam', loss = 'sparse_categorical_crossentropy', metrics = ['accuracy'])"
   ]
  },
  {
   "cell_type": "code",
   "execution_count": 711,
   "metadata": {},
   "outputs": [
    {
     "name": "stdout",
     "output_type": "stream",
     "text": [
      "Epoch 1/40\n",
      "24/24 [==============================] - 2s 62ms/step - loss: 1.3250 - accuracy: 0.5040\n",
      "Epoch 2/40\n",
      "24/24 [==============================] - 1s 38ms/step - loss: 1.1720 - accuracy: 0.5159\n",
      "Epoch 3/40\n",
      "24/24 [==============================] - 1s 37ms/step - loss: 0.9704 - accuracy: 0.6257\n",
      "Epoch 4/40\n",
      "24/24 [==============================] - 1s 39ms/step - loss: 0.6633 - accuracy: 0.7831\n",
      "Epoch 5/40\n",
      "24/24 [==============================] - 1s 36ms/step - loss: 0.5106 - accuracy: 0.8254\n",
      "Epoch 6/40\n",
      "24/24 [==============================] - 1s 36ms/step - loss: 0.4247 - accuracy: 0.8585\n",
      "Epoch 7/40\n",
      "24/24 [==============================] - 1s 45ms/step - loss: 0.3692 - accuracy: 0.8598\n",
      "Epoch 8/40\n",
      "24/24 [==============================] - 1s 48ms/step - loss: 0.3286 - accuracy: 0.8730\n",
      "Epoch 9/40\n",
      "24/24 [==============================] - 1s 36ms/step - loss: 0.2848 - accuracy: 0.8889\n",
      "Epoch 10/40\n",
      "24/24 [==============================] - 1s 36ms/step - loss: 0.2407 - accuracy: 0.9021\n",
      "Epoch 11/40\n",
      "24/24 [==============================] - 1s 47ms/step - loss: 0.2285 - accuracy: 0.9140\n",
      "Epoch 12/40\n",
      "24/24 [==============================] - 1s 46ms/step - loss: 0.2279 - accuracy: 0.9193\n",
      "Epoch 13/40\n",
      "24/24 [==============================] - 1s 37ms/step - loss: 0.1832 - accuracy: 0.9444\n",
      "Epoch 14/40\n",
      "24/24 [==============================] - 1s 37ms/step - loss: 0.1690 - accuracy: 0.9339\n",
      "Epoch 15/40\n",
      "24/24 [==============================] - 1s 44ms/step - loss: 0.1485 - accuracy: 0.9537\n",
      "Epoch 16/40\n",
      "24/24 [==============================] - 1s 39ms/step - loss: 0.1445 - accuracy: 0.9444\n",
      "Epoch 17/40\n",
      "24/24 [==============================] - 1s 38ms/step - loss: 0.1244 - accuracy: 0.9643\n",
      "Epoch 18/40\n",
      "24/24 [==============================] - 1s 38ms/step - loss: 0.1292 - accuracy: 0.9524\n",
      "Epoch 19/40\n",
      "24/24 [==============================] - 1s 36ms/step - loss: 0.1056 - accuracy: 0.9656\n",
      "Epoch 20/40\n",
      "24/24 [==============================] - 1s 52ms/step - loss: 0.1031 - accuracy: 0.9709\n",
      "Epoch 21/40\n",
      "24/24 [==============================] - 1s 39ms/step - loss: 0.0887 - accuracy: 0.9749\n",
      "Epoch 22/40\n",
      "24/24 [==============================] - 1s 37ms/step - loss: 0.0739 - accuracy: 0.9802\n",
      "Epoch 23/40\n",
      "24/24 [==============================] - 1s 36ms/step - loss: 0.0691 - accuracy: 0.9802\n",
      "Epoch 24/40\n",
      "24/24 [==============================] - 1s 39ms/step - loss: 0.0708 - accuracy: 0.9802\n",
      "Epoch 25/40\n",
      "24/24 [==============================] - 1s 36ms/step - loss: 0.0622 - accuracy: 0.9841\n",
      "Epoch 26/40\n",
      "24/24 [==============================] - 1s 39ms/step - loss: 0.0566 - accuracy: 0.9841\n",
      "Epoch 27/40\n",
      "24/24 [==============================] - 1s 38ms/step - loss: 0.0576 - accuracy: 0.9868\n",
      "Epoch 28/40\n",
      "24/24 [==============================] - 1s 40ms/step - loss: 0.0497 - accuracy: 0.9868\n",
      "Epoch 29/40\n",
      "24/24 [==============================] - 1s 36ms/step - loss: 0.0473 - accuracy: 0.9881\n",
      "Epoch 30/40\n",
      "24/24 [==============================] - 1s 36ms/step - loss: 0.0491 - accuracy: 0.9868\n",
      "Epoch 31/40\n",
      "24/24 [==============================] - 1s 38ms/step - loss: 0.0400 - accuracy: 0.9921\n",
      "Epoch 32/40\n",
      "24/24 [==============================] - 1s 40ms/step - loss: 0.0386 - accuracy: 0.9921\n",
      "Epoch 33/40\n",
      "24/24 [==============================] - 1s 36ms/step - loss: 0.0353 - accuracy: 0.9934\n",
      "Epoch 34/40\n",
      "24/24 [==============================] - 1s 37ms/step - loss: 0.0401 - accuracy: 0.9868\n",
      "Epoch 35/40\n",
      "24/24 [==============================] - 1s 44ms/step - loss: 0.0327 - accuracy: 0.9894\n",
      "Epoch 36/40\n",
      "24/24 [==============================] - 1s 40ms/step - loss: 0.0470 - accuracy: 0.9841\n",
      "Epoch 37/40\n",
      "24/24 [==============================] - 1s 37ms/step - loss: 0.0269 - accuracy: 0.9947\n",
      "Epoch 38/40\n",
      "24/24 [==============================] - 1s 37ms/step - loss: 0.0246 - accuracy: 0.9947\n",
      "Epoch 39/40\n",
      "24/24 [==============================] - 1s 36ms/step - loss: 0.0225 - accuracy: 0.9934\n",
      "Epoch 40/40\n",
      "24/24 [==============================] - 1s 46ms/step - loss: 0.0216 - accuracy: 0.9947\n"
     ]
    },
    {
     "data": {
      "text/plain": [
       "<keras.callbacks.History at 0x7f84bf76cc70>"
      ]
     },
     "execution_count": 711,
     "metadata": {},
     "output_type": "execute_result"
    }
   ],
   "source": [
    "train_data = np.asarray(train_data)\n",
    "train_labels = np.asarray(train_labels)\n",
    "\n",
    "fox.fit(train_data,train_labels,epochs = 40)"
   ]
  },
  {
   "cell_type": "code",
   "execution_count": 712,
   "metadata": {},
   "outputs": [
    {
     "name": "stdout",
     "output_type": "stream",
     "text": [
      "24/24 [==============================] - 1s 15ms/step - loss: 0.0177 - accuracy: 0.9987\n"
     ]
    },
    {
     "data": {
      "text/plain": [
       "[0.017709754407405853, 0.9986772537231445]"
      ]
     },
     "execution_count": 712,
     "metadata": {},
     "output_type": "execute_result"
    }
   ],
   "source": [
    "fox.evaluate(train_data,train_labels)"
   ]
  },
  {
   "cell_type": "code",
   "execution_count": 713,
   "metadata": {},
   "outputs": [
    {
     "name": "stdout",
     "output_type": "stream",
     "text": [
      "3/3 [==============================] - 0s 13ms/step - loss: 0.1038 - accuracy: 0.9762\n"
     ]
    },
    {
     "data": {
      "text/plain": [
       "[0.103849396109581, 0.976190447807312]"
      ]
     },
     "execution_count": 713,
     "metadata": {},
     "output_type": "execute_result"
    }
   ],
   "source": [
    "val_data = np.asarray(val_data)\n",
    "val_labels = np.asarray(val_labels)\n",
    "fox.evaluate(val_data,val_labels)"
   ]
  },
  {
   "cell_type": "code",
   "execution_count": 714,
   "metadata": {},
   "outputs": [
    {
     "name": "stdout",
     "output_type": "stream",
     "text": [
      "7/7 [==============================] - 0s 16ms/step - loss: 0.3702 - accuracy: 0.9238\n"
     ]
    },
    {
     "data": {
      "text/plain": [
       "[0.37015223503112793, 0.9238095283508301]"
      ]
     },
     "execution_count": 714,
     "metadata": {},
     "output_type": "execute_result"
    }
   ],
   "source": [
    "test_data = np.asarray(test_data)\n",
    "test_labels = np.asarray(test_labels)\n",
    "fox.evaluate(test_data, test_labels)"
   ]
  },
  {
   "cell_type": "code",
   "execution_count": 716,
   "metadata": {},
   "outputs": [
    {
     "name": "stderr",
     "output_type": "stream",
     "text": [
      "WARNING:absl:Found untraced functions such as _jit_compiled_convolution_op, _jit_compiled_convolution_op while saving (showing 2 of 2). These functions will not be directly callable after loading.\n"
     ]
    },
    {
     "name": "stdout",
     "output_type": "stream",
     "text": [
      "INFO:tensorflow:Assets written to: Model2/assets\n"
     ]
    },
    {
     "name": "stderr",
     "output_type": "stream",
     "text": [
      "INFO:tensorflow:Assets written to: Model2/assets\n"
     ]
    }
   ],
   "source": [
    "fox.save('Model2')"
   ]
  },
  {
   "cell_type": "code",
   "execution_count": 726,
   "metadata": {},
   "outputs": [
    {
     "name": "stdout",
     "output_type": "stream",
     "text": [
      "24/24 [==============================] - 0s 15ms/step\n"
     ]
    },
    {
     "ename": "TypeError",
     "evalue": "only size-1 arrays can be converted to Python scalars",
     "output_type": "error",
     "traceback": [
      "\u001b[0;31m---------------------------------------------------------------------------\u001b[0m",
      "\u001b[0;31mTypeError\u001b[0m                                 Traceback (most recent call last)",
      "Cell \u001b[0;32mIn[726], line 11\u001b[0m\n\u001b[1;32m      8\u001b[0m predictions \u001b[39m=\u001b[39m loaded_model\u001b[39m.\u001b[39mpredict(train_data)\n\u001b[1;32m     10\u001b[0m \u001b[39mfor\u001b[39;00m i \u001b[39min\u001b[39;00m \u001b[39mrange\u001b[39m(\u001b[39m15\u001b[39m):\n\u001b[0;32m---> 11\u001b[0m     plot_sample(train_data,predictions,i,Labels)\n",
      "Cell \u001b[0;32mIn[725], line 5\u001b[0m, in \u001b[0;36mplot_sample\u001b[0;34m(X, y, index, Labels)\u001b[0m\n\u001b[1;32m      3\u001b[0m plt\u001b[39m.\u001b[39mfigure(figsize \u001b[39m=\u001b[39m (\u001b[39m15\u001b[39m,\u001b[39m2\u001b[39m))\n\u001b[1;32m      4\u001b[0m plt\u001b[39m.\u001b[39mimshow(X[index])\n\u001b[0;32m----> 5\u001b[0m plt\u001b[39m.\u001b[39mxlabel(Labels[\u001b[39mint\u001b[39;49m(y[index])])\n",
      "\u001b[0;31mTypeError\u001b[0m: only size-1 arrays can be converted to Python scalars"
     ]
    },
    {
     "data": {
      "image/png": "[encoded data removed]",
      "text/plain": [
       "<Figure size 1500x200 with 1 Axes>"
      ]
     },
     "metadata": {},
     "output_type": "display_data"
    }
   ],
   "source": [
    "#testing model\n",
    "\n",
    "\n",
    "\n",
    "\n"
   ]
  }
 ],
 "metadata": {
  "kernelspec": {
   "display_name": "base",
   "language": "python",
   "name": "python3"
  },
  "language_info": {
   "codemirror_mode": {
    "name": "ipython",
    "version": 3
   },
   "file_extension": ".py",
   "mimetype": "text/x-python",
   "name": "python",
   "nbconvert_exporter": "python",
   "pygments_lexer": "ipython3",
   "version": "3.10.9"
  },
  "orig_nbformat": 4
 },
 "nbformat": 4,
 "nbformat_minor": 2
}
