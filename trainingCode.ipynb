{
 "cells": [
  {
   "cell_type": "code",
   "execution_count": 649,
   "metadata": {},
   "outputs": [],
   "source": [
    "import PIL\n",
    "from PIL import Image\n",
    "import glob\n",
    "import numpy as np\n",
    "import cv2\n",
    "import os\n",
    "import random\n",
    "from sklearn.model_selection import train_test_split\n",
    "import matplotlib.pyplot as plt\n",
    "import tensorflow as tf\n",
    "from tensorflow.keras import layers,models\n",
    "\n",
    "#print(\"Pillow Version: \", PIL.__version__)\n"
   ]
  },
  {
   "cell_type": "code",
   "execution_count": 650,
   "metadata": {},
   "outputs": [],
   "source": [
    "folder_path = \"/Users/mishaynaidoo/Desktop/UCT/EEE4114F/SymbolsToSPICE/Training_Data/Resized_Data/Batteries\"\n",
    "\n",
    "images = []\n",
    "\n",
    "for filename in os.listdir(folder_path):\n",
    "    img = cv2.imread(os.path.join(folder_path, filename))\n",
    "    if img is not None:\n",
    "        # Resize the image if necessary\n",
    "        img = cv2.resize(img, (56, 56))\n",
    "        # Convert the image to grayscale if needed\n",
    "        img = cv2.cvtColor(img, cv2.COLOR_BGR2GRAY)\n",
    "        images.append(img)\n",
    "\n",
    "batteries_array = np.array(images)/255"
   ]
  },
  {
   "cell_type": "code",
   "execution_count": 651,
   "metadata": {},
   "outputs": [],
   "source": [
    "folder_path = \"/Users/mishaynaidoo/Desktop/UCT/EEE4114F/SymbolsToSPICE/Training_Data/Resized_Data/Resistors\"\n",
    "\n",
    "images = []\n",
    "\n",
    "for filename in os.listdir(folder_path):\n",
    "    img = cv2.imread(os.path.join(folder_path, filename))\n",
    "    if img is not None:\n",
    "        # Resize the image if necessary\n",
    "        img = cv2.resize(img, (56, 56))\n",
    "        # Convert the image to grayscale if needed\n",
    "        img = cv2.cvtColor(img, cv2.COLOR_BGR2GRAY)\n",
    "        images.append(img)\n",
    "\n",
    "resistors_array = np.array(images)/255"
   ]
  },
  {
   "cell_type": "code",
   "execution_count": 652,
   "metadata": {},
   "outputs": [],
   "source": [
    "folder_path = \"/Users/mishaynaidoo/Desktop/UCT/EEE4114F/SymbolsToSPICE/Training_Data/Resized_Data/Capacitors\"\n",
    "\n",
    "images = []\n",
    "\n",
    "for filename in os.listdir(folder_path):\n",
    "    img = cv2.imread(os.path.join(folder_path, filename))\n",
    "    if img is not None:\n",
    "        # Resize the image if necessary\n",
    "        img = cv2.resize(img, (56, 56))\n",
    "        # Convert the image to grayscale if needed\n",
    "        img = cv2.cvtColor(img, cv2.COLOR_BGR2GRAY)\n",
    "        images.append(img)\n",
    "\n",
    "capacitor_array = np.array(images)/255"
   ]
  },
  {
   "cell_type": "code",
   "execution_count": 653,
   "metadata": {},
   "outputs": [],
   "source": [
    "folder_path = \"/Users/mishaynaidoo/Desktop/UCT/EEE4114F/SymbolsToSPICE/Training_Data/Resized_Data/Inductors\"\n",
    "\n",
    "images = []\n",
    "\n",
    "for filename in os.listdir(folder_path):\n",
    "    img = cv2.imread(os.path.join(folder_path, filename))\n",
    "    if img is not None:\n",
    "        # Resize the image if necessary\n",
    "        img = cv2.resize(img, (56, 56))\n",
    "        # Convert the image to grayscale if needed\n",
    "        img = cv2.cvtColor(img, cv2.COLOR_BGR2GRAY)\n",
    "        images.append(img)\n",
    "\n",
    "inductors_array = np.array(images)/255"
   ]
  },
  {
   "cell_type": "code",
   "execution_count": 654,
   "metadata": {},
   "outputs": [],
   "source": [
    "folder_path = \"/Users/mishaynaidoo/Desktop/UCT/EEE4114F/SymbolsToSPICE/Training_Data/Resized_Data/Ground\"\n",
    "\n",
    "images = []\n",
    "\n",
    "for filename in os.listdir(folder_path):\n",
    "    img = cv2.imread(os.path.join(folder_path, filename))\n",
    "    if img is not None:\n",
    "        # Resize the image if necessary\n",
    "        img = cv2.resize(img, (56, 56))\n",
    "        # Convert the image to grayscale if needed\n",
    "        img = cv2.cvtColor(img, cv2.COLOR_BGR2GRAY)\n",
    "        images.append(img)\n",
    "\n",
    "ground_array = np.array(images)/255"
   ]
  },
  {
   "cell_type": "code",
   "execution_count": 655,
   "metadata": {},
   "outputs": [],
   "source": [
    "#print(np.shape(ground_array))\n",
    "Labels = ['Ground', 'Resistor', 'Inductor', 'Capacitor', 'Battery']\n"
   ]
  },
  {
   "cell_type": "code",
   "execution_count": 656,
   "metadata": {},
   "outputs": [],
   "source": [
    "ground_label = np.zeros(210)\n",
    "resistor_label = np.ones(210)\n",
    "inductor_label = 2*np.ones(210)\n",
    "capacitor_label = 3*np.ones(210)\n",
    "battery_label = 4*np.ones(210)"
   ]
  },
  {
   "cell_type": "code",
   "execution_count": 657,
   "metadata": {},
   "outputs": [],
   "source": [
    "ground_array = list(zip(ground_array,ground_label))\n",
    "resistors_array = list(zip(resistors_array, resistor_label))\n",
    "inductors_array = list(zip(inductors_array, inductor_label))\n",
    "capacitor_array = list(zip(capacitor_array, capacitor_label))\n",
    "batteries_array = list(zip(batteries_array, battery_label))\n",
    "\n"
   ]
  },
  {
   "cell_type": "code",
   "execution_count": 658,
   "metadata": {},
   "outputs": [],
   "source": [
    "data_with_labels = np.concatenate((ground_array,resistors_array,inductors_array,capacitor_array,batteries_array))"
   ]
  },
  {
   "cell_type": "code",
   "execution_count": 659,
   "metadata": {},
   "outputs": [],
   "source": [
    "random.shuffle(data_with_labels)"
   ]
  },
  {
   "cell_type": "code",
   "execution_count": 660,
   "metadata": {},
   "outputs": [],
   "source": [
    "shuffled_data, shuffled_labels = zip(*data_with_labels)"
   ]
  },
  {
   "cell_type": "code",
   "execution_count": 661,
   "metadata": {},
   "outputs": [],
   "source": [
    "#print(np.shape(shuffled_data))\n",
    "train_data,test_data,train_labels,test_labels = train_test_split(shuffled_data, shuffled_labels, test_size = 0.2)\n",
    "\n",
    "train_data, val_data, train_labels, val_labels = train_test_split(train_data, train_labels, test_size = 0.1)\n"
   ]
  },
  {
   "cell_type": "code",
   "execution_count": 662,
   "metadata": {},
   "outputs": [],
   "source": [
    "#print(train_labels[0])\n",
    "def plot_sample(X,y,index):\n",
    "    plt.figure(figsize = (15,2))\n",
    "    plt.imshow(X[index])\n",
    "    plt.xlabel(Labels[int(y[index])])"
   ]
  },
  {
   "cell_type": "code",
   "execution_count": 663,
   "metadata": {},
   "outputs": [
    {
     "data": {
      "image/png": "[encoded data removed]",
      "text/plain": [
       "<Figure size 1500x200 with 1 Axes>"
      ]
     },
     "metadata": {},
     "output_type": "display_data"
    }
   ],
   "source": [
    "plot_sample(train_data,train_labels,7)"
   ]
  },
  {
   "cell_type": "code",
   "execution_count": 664,
   "metadata": {},
   "outputs": [],
   "source": [
    "fox = models.Sequential([\n",
    "    layers.Conv2D(filters = 4, kernel_size = (3,3), activation = 'relu', input_shape=(56,56,1)),\n",
    "    layers.MaxPooling2D((2,2)),\n",
    "\n",
    "    layers.Flatten(),\n",
    "    layers.Dense(64, activation = 'relu'),\n",
    "    layers.Dense(5, activation = 'softmax')\n",
    "\n",
    "\n",
    "])"
   ]
  },
  {
   "cell_type": "code",
   "execution_count": 665,
   "metadata": {},
   "outputs": [],
   "source": [
    "fox.compile(optimizer = 'adam', loss = 'sparse_categorical_crossentropy', metrics = ['accuracy'])"
   ]
  },
  {
   "cell_type": "code",
   "execution_count": 666,
   "metadata": {},
   "outputs": [
    {
     "name": "stdout",
     "output_type": "stream",
     "text": [
      "Epoch 1/40\n",
      "24/24 [==============================] - 1s 24ms/step - loss: 1.3060 - accuracy: 0.5040\n",
      "Epoch 2/40\n",
      "24/24 [==============================] - 1s 21ms/step - loss: 1.1112 - accuracy: 0.5661\n",
      "Epoch 3/40\n",
      "24/24 [==============================] - 1s 21ms/step - loss: 0.9216 - accuracy: 0.6706\n",
      "Epoch 4/40\n",
      "24/24 [==============================] - 1s 21ms/step - loss: 0.7552 - accuracy: 0.7328\n",
      "Epoch 5/40\n",
      "24/24 [==============================] - 1s 21ms/step - loss: 0.6437 - accuracy: 0.7646\n",
      "Epoch 6/40\n",
      "24/24 [==============================] - 1s 27ms/step - loss: 0.5688 - accuracy: 0.7923\n",
      "Epoch 7/40\n",
      "24/24 [==============================] - 1s 24ms/step - loss: 0.5025 - accuracy: 0.8399\n",
      "Epoch 8/40\n",
      "24/24 [==============================] - 1s 21ms/step - loss: 0.4330 - accuracy: 0.8743\n",
      "Epoch 9/40\n",
      "24/24 [==============================] - 1s 21ms/step - loss: 0.3794 - accuracy: 0.9008\n",
      "Epoch 10/40\n",
      "24/24 [==============================] - 1s 22ms/step - loss: 0.3386 - accuracy: 0.9061\n",
      "Epoch 11/40\n",
      "24/24 [==============================] - 1s 21ms/step - loss: 0.3097 - accuracy: 0.9206\n",
      "Epoch 12/40\n",
      "24/24 [==============================] - 1s 27ms/step - loss: 0.2767 - accuracy: 0.9127\n",
      "Epoch 13/40\n",
      "24/24 [==============================] - 1s 27ms/step - loss: 0.2533 - accuracy: 0.9233\n",
      "Epoch 14/40\n",
      "24/24 [==============================] - 1s 27ms/step - loss: 0.2200 - accuracy: 0.9497\n",
      "Epoch 15/40\n",
      "24/24 [==============================] - 1s 22ms/step - loss: 0.2076 - accuracy: 0.9418\n",
      "Epoch 16/40\n",
      "24/24 [==============================] - 1s 23ms/step - loss: 0.1886 - accuracy: 0.9511\n",
      "Epoch 17/40\n",
      "24/24 [==============================] - 1s 24ms/step - loss: 0.1685 - accuracy: 0.9577\n",
      "Epoch 18/40\n",
      "24/24 [==============================] - 1s 22ms/step - loss: 0.1521 - accuracy: 0.9656\n",
      "Epoch 19/40\n",
      "24/24 [==============================] - 1s 21ms/step - loss: 0.1482 - accuracy: 0.9696\n",
      "Epoch 20/40\n",
      "24/24 [==============================] - 1s 21ms/step - loss: 0.1285 - accuracy: 0.9722\n",
      "Epoch 21/40\n",
      "24/24 [==============================] - 1s 29ms/step - loss: 0.1174 - accuracy: 0.9735\n",
      "Epoch 22/40\n",
      "24/24 [==============================] - 1s 23ms/step - loss: 0.1055 - accuracy: 0.9815\n",
      "Epoch 23/40\n",
      "24/24 [==============================] - 1s 22ms/step - loss: 0.1022 - accuracy: 0.9815\n",
      "Epoch 24/40\n",
      "24/24 [==============================] - 1s 22ms/step - loss: 0.0902 - accuracy: 0.9854\n",
      "Epoch 25/40\n",
      "24/24 [==============================] - 1s 22ms/step - loss: 0.0816 - accuracy: 0.9868\n",
      "Epoch 26/40\n",
      "24/24 [==============================] - 1s 23ms/step - loss: 0.0760 - accuracy: 0.9894\n",
      "Epoch 27/40\n",
      "24/24 [==============================] - 1s 29ms/step - loss: 0.0749 - accuracy: 0.9881\n",
      "Epoch 28/40\n",
      "24/24 [==============================] - 1s 22ms/step - loss: 0.0644 - accuracy: 0.9934\n",
      "Epoch 29/40\n",
      "24/24 [==============================] - 1s 21ms/step - loss: 0.0590 - accuracy: 0.9960\n",
      "Epoch 30/40\n",
      "24/24 [==============================] - 1s 22ms/step - loss: 0.0542 - accuracy: 0.9947\n",
      "Epoch 31/40\n",
      "24/24 [==============================] - 1s 23ms/step - loss: 0.0501 - accuracy: 0.9960\n",
      "Epoch 32/40\n",
      "24/24 [==============================] - 1s 23ms/step - loss: 0.0446 - accuracy: 0.9960\n",
      "Epoch 33/40\n",
      "24/24 [==============================] - 1s 29ms/step - loss: 0.0408 - accuracy: 0.9987\n",
      "Epoch 34/40\n",
      "24/24 [==============================] - 1s 23ms/step - loss: 0.0385 - accuracy: 0.9974\n",
      "Epoch 35/40\n",
      "24/24 [==============================] - 1s 22ms/step - loss: 0.0378 - accuracy: 0.9974\n",
      "Epoch 36/40\n",
      "24/24 [==============================] - 1s 24ms/step - loss: 0.0324 - accuracy: 0.9987\n",
      "Epoch 37/40\n",
      "24/24 [==============================] - 1s 22ms/step - loss: 0.0306 - accuracy: 0.9987\n",
      "Epoch 38/40\n",
      "24/24 [==============================] - 1s 29ms/step - loss: 0.0286 - accuracy: 0.9987\n",
      "Epoch 39/40\n",
      "24/24 [==============================] - 1s 22ms/step - loss: 0.0276 - accuracy: 0.9987\n",
      "Epoch 40/40\n",
      "24/24 [==============================] - 1s 21ms/step - loss: 0.0260 - accuracy: 0.9987\n"
     ]
    },
    {
     "data": {
      "text/plain": [
       "<keras.callbacks.History at 0x7f84a26aa590>"
      ]
     },
     "execution_count": 666,
     "metadata": {},
     "output_type": "execute_result"
    }
   ],
   "source": [
    "train_data = np.asarray(train_data)\n",
    "train_labels = np.asarray(train_labels)\n",
    "\n",
    "fox.fit(train_data,train_labels,epochs = 40)"
   ]
  },
  {
   "cell_type": "code",
   "execution_count": 670,
   "metadata": {},
   "outputs": [
    {
     "name": "stdout",
     "output_type": "stream",
     "text": [
      "24/24 [==============================] - 1s 14ms/step - loss: 0.0242 - accuracy: 1.0000\n"
     ]
    },
    {
     "data": {
      "text/plain": [
       "[0.02415117435157299, 1.0]"
      ]
     },
     "execution_count": 670,
     "metadata": {},
     "output_type": "execute_result"
    }
   ],
   "source": [
    "fox.evaluate(train_data,train_labels)"
   ]
  },
  {
   "cell_type": "code",
   "execution_count": 671,
   "metadata": {},
   "outputs": [
    {
     "name": "stdout",
     "output_type": "stream",
     "text": [
      "3/3 [==============================] - 0s 14ms/step - loss: 0.3381 - accuracy: 0.9048\n"
     ]
    },
    {
     "data": {
      "text/plain": [
       "[0.33811506628990173, 0.9047619104385376]"
      ]
     },
     "execution_count": 671,
     "metadata": {},
     "output_type": "execute_result"
    }
   ],
   "source": [
    "val_data = np.asarray(val_data)\n",
    "val_labels = np.asarray(val_labels)\n",
    "fox.evaluate(val_data,val_labels)"
   ]
  },
  {
   "cell_type": "code",
   "execution_count": 672,
   "metadata": {},
   "outputs": [
    {
     "name": "stdout",
     "output_type": "stream",
     "text": [
      "7/7 [==============================] - 0s 11ms/step - loss: 0.2868 - accuracy: 0.9286\n"
     ]
    },
    {
     "data": {
      "text/plain": [
       "[0.28682711720466614, 0.9285714030265808]"
      ]
     },
     "execution_count": 672,
     "metadata": {},
     "output_type": "execute_result"
    }
   ],
   "source": [
    "test_data = np.asarray(test_data)\n",
    "test_labels = np.asarray(test_labels)\n",
    "fox.evaluate(test_data, test_labels)"
   ]
  },
  {
   "cell_type": "code",
   "execution_count": null,
   "metadata": {},
   "outputs": [],
   "source": []
  }
 ],
 "metadata": {
  "kernelspec": {
   "display_name": "base",
   "language": "python",
   "name": "python3"
  },
  "language_info": {
   "codemirror_mode": {
    "name": "ipython",
    "version": 3
   },
   "file_extension": ".py",
   "mimetype": "text/x-python",
   "name": "python",
   "nbconvert_exporter": "python",
   "pygments_lexer": "ipython3",
   "version": "3.10.9"
  },
  "orig_nbformat": 4
 },
 "nbformat": 4,
 "nbformat_minor": 2
}
