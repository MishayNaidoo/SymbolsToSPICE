{
 "cells": [
  {
   "cell_type": "code",
   "execution_count": 1,
   "metadata": {},
   "outputs": [
    {
     "name": "stderr",
     "output_type": "stream",
     "text": [
      "2023-05-15 14:28:55.868414: I tensorflow/core/platform/cpu_feature_guard.cc:182] This TensorFlow binary is optimized to use available CPU instructions in performance-critical operations.\n",
      "To enable the following instructions: AVX2 FMA, in other operations, rebuild TensorFlow with the appropriate compiler flags.\n",
      "/var/folders/q0/nm0wfbb171d9c334vpmqgsg80000gn/T/ipykernel_74780/819338451.py:74: DeprecationWarning: ANTIALIAS is deprecated and will be removed in Pillow 10 (2023-07-01). Use LANCZOS or Resampling.LANCZOS instead.\n",
      "  image = image.resize((400, 400), Image.ANTIALIAS)\n"
     ]
    },
    {
     "ename": "SystemExit",
     "evalue": "0",
     "output_type": "error",
     "traceback": [
      "An exception has occurred, use %tb to see the full traceback.\n",
      "\u001b[0;31mSystemExit\u001b[0m\u001b[0;31m:\u001b[0m 0\n"
     ]
    },
    {
     "name": "stderr",
     "output_type": "stream",
     "text": [
      "/Users/danieljones/anaconda3/lib/python3.10/site-packages/IPython/core/interactiveshell.py:3468: UserWarning: To exit: use 'exit', 'quit', or Ctrl-D.\n",
      "  warn(\"To exit: use 'exit', 'quit', or Ctrl-D.\", stacklevel=1)\n"
     ]
    }
   ],
   "source": [
    "import sys\n",
    "import random\n",
    "from PyQt5.QtWidgets import QApplication, QMainWindow, QLabel, QPushButton, QVBoxLayout, QWidget, QFileDialog\n",
    "from PyQt5.QtGui import QPixmap\n",
    "from PIL import Image\n",
    "from PyQt5.QtGui import QImage\n",
    "import PIL\n",
    "from PIL import Image\n",
    "import glob\n",
    "import numpy as np\n",
    "\n",
    "import random\n",
    "\n",
    "import matplotlib.pyplot as plt\n",
    "import tensorflow as tf\n",
    "from tensorflow.keras import layers,models\n",
    "from keras.preprocessing.image import ImageDataGenerator\n",
    "\n",
    "loaded_model = models.load_model('ModelGUIV1')\n",
    "\n",
    "class MainWindow(QMainWindow):\n",
    "    def __init__(self):\n",
    "        super().__init__()\n",
    "        self.setWindowTitle(\"Component Identification\")\n",
    "        \n",
    "        self.image_label = QLabel(self)\n",
    "        self.image_label.setFixedSize(400, 400)\n",
    "        \n",
    "        self.result_label = QLabel(self)\n",
    "        \n",
    "        upload_button = QPushButton(\"Upload Image\", self)\n",
    "        upload_button.clicked.connect(self.upload_image)\n",
    "        \n",
    "        layout = QVBoxLayout()\n",
    "        layout.addWidget(upload_button)\n",
    "        layout.addWidget(self.image_label)\n",
    "        layout.addWidget(self.result_label)\n",
    "        \n",
    "        central_widget = QWidget(self)\n",
    "        central_widget.setLayout(layout)\n",
    "        self.setCentralWidget(central_widget)\n",
    "    \n",
    "    def upload_image(self):\n",
    "        file_dialog = QFileDialog()\n",
    "        image_path, _ = file_dialog.getOpenFileName(self, \"Select Image\", \"\", \"Image Files (*.png *.jpg *.jpeg)\")\n",
    "        \n",
    "        if image_path:\n",
    "            # Process the image\n",
    "            processed_image = process_image(image_path)\n",
    "            \n",
    "            # Display the processed image\n",
    "            self.display_image(processed_image)\n",
    "            \n",
    "            # Identify the component using your machine learning algorithm\n",
    "            identified_component = identify_component(processed_image)\n",
    "            \n",
    "            # Display the result\n",
    "            self.result_label.setText(f\"Identified Component: {identified_component}\")\n",
    "    \n",
    "    def display_image(self, image):\n",
    "        image = image.convert(\"RGBA\")  # Convert PIL Image to RGBA mode\n",
    "        data = image.tobytes(\"raw\", \"RGBA\")  # Get the image data bytes\n",
    "        qimage = QImage(data, image.size[0], image.size[1], QImage.Format_RGBA8888)  # Create a QImage from the image data\n",
    "        pixmap = QPixmap.fromImage(qimage)  # Convert QImage to QPixmap\n",
    "        self.image_label.setPixmap(pixmap)\n",
    "    \n",
    "def process_image(image_path):\n",
    "    # Implement your image processing logic here\n",
    "    # You can use libraries like OpenCV or PIL to load and preprocess the image\n",
    "    # Return the processed image\n",
    "    \n",
    "    # Example: Resizing the image to fit the label size\n",
    "    image = Image.open(image_path)\n",
    "    image = image.resize((400, 400), Image.ANTIALIAS)\n",
    "    return image\n",
    "\n",
    "def identify_component(image):\n",
    "    # Implement your machine learning algorithm to identify the component in the image\n",
    "    # Return the identified component\n",
    "    \n",
    "    # Example: Randomly select a component\n",
    "    components = [\"Resistor\", \"Capacitor\", \"Inductor\", \"Battery\", \"Ground\"]\n",
    "    return random.choice(components)\n",
    "\n",
    "if __name__ == \"__main__\":\n",
    "    app = QApplication(sys.argv)\n",
    "    window = MainWindow()\n",
    "    window.show()\n",
    "    sys.exit(app.exec_())\n"
   ]
  }
 ],
 "metadata": {
  "kernelspec": {
   "display_name": "base",
   "language": "python",
   "name": "python3"
  },
  "language_info": {
   "codemirror_mode": {
    "name": "ipython",
    "version": 3
   },
   "file_extension": ".py",
   "mimetype": "text/x-python",
   "name": "python",
   "nbconvert_exporter": "python",
   "pygments_lexer": "ipython3",
   "version": "3.10.9"
  },
  "orig_nbformat": 4
 },
 "nbformat": 4,
 "nbformat_minor": 2
}
