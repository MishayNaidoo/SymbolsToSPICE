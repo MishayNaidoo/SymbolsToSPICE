{
 "cells": [
  {
   "cell_type": "code",
   "execution_count": 3,
   "metadata": {},
   "outputs": [],
   "source": [
    "def generate_ltspice_code():\n",
    "    ltspice_code = \"SYMBOL res 10 10 R0\"\n",
    "    \n",
    "    return ltspice_code\n",
    "\n",
    "def generate_ltspice_schematic(file_path):\n",
    "    ltspice_code = generate_ltspice_code()\n",
    "\n",
    "    with open(file_path, 'w') as file:\n",
    "        file.write(ltspice_code)\n",
    "\n",
    "# Example usage\n",
    "generate_ltspice_schematic(\"circuit.asc\")\n",
    "\n"
   ]
  },
  {
   "cell_type": "code",
   "execution_count": 4,
   "metadata": {},
   "outputs": [],
   "source": [
    "\n"
   ]
  }
 ],
 "metadata": {
  "kernelspec": {
   "display_name": "base",
   "language": "python",
   "name": "python3"
  },
  "language_info": {
   "codemirror_mode": {
    "name": "ipython",
    "version": 3
   },
   "file_extension": ".py",
   "mimetype": "text/x-python",
   "name": "python",
   "nbconvert_exporter": "python",
   "pygments_lexer": "ipython3",
   "version": "3.10.9"
  },
  "orig_nbformat": 4
 },
 "nbformat": 4,
 "nbformat_minor": 2
}
